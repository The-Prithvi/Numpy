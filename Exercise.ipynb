{
 "cells": [
  {
   "cell_type": "markdown",
   "id": "6c3b9cf0-1481-4e48-a59a-754e2467fbae",
   "metadata": {},
   "source": [
    "#### 1. Write a NumPy program to convert a list of numeric values into a one-dimensional NumPy array."
   ]
  },
  {
   "cell_type": "code",
   "execution_count": 2,
   "id": "ebee60b9-3be6-4fb7-b221-98353ff50552",
   "metadata": {},
   "outputs": [
    {
     "data": {
      "text/plain": [
       "array([1, 2, 3, 4, 5])"
      ]
     },
     "execution_count": 2,
     "metadata": {},
     "output_type": "execute_result"
    }
   ],
   "source": [
    "import numpy as np\n",
    "li = [1,2,3,4,5]\n",
    "arr = np.array(li)\n",
    "arr\n"
   ]
  },
  {
   "cell_type": "markdown",
   "id": "fde4491b-8aff-4416-8081-bad15d759dde",
   "metadata": {},
   "source": [
    "#### 2. Write a NumPy program to create a 3x3 matrix with values ranging from 2 to 10.\n",
    "Expected Output: [[ 2 3 4][ 5 6 7][ 8 9 10]]"
   ]
  },
  {
   "cell_type": "code",
   "execution_count": 8,
   "id": "c2301041-a059-4c3e-b6fd-d94c66568eca",
   "metadata": {},
   "outputs": [
    {
     "data": {
      "text/plain": [
       "array([[ 2,  3,  4],\n",
       "       [ 5,  6,  7],\n",
       "       [ 8,  9, 10]])"
      ]
     },
     "execution_count": 8,
     "metadata": {},
     "output_type": "execute_result"
    }
   ],
   "source": [
    "import numpy as np\n",
    "arr = np.arange(2,11)\n",
    "arr.reshape(3,3)"
   ]
  },
  {
   "cell_type": "markdown",
   "id": "4829c9cd-50d5-426c-a31f-6507fbc811a2",
   "metadata": {},
   "source": [
    "#### 3. Write a NumPy program to convert Centigrade degrees into Fahrenheit degrees. Centigrade values are stored in a NumPy array.\n",
    "Sample Array [\n",
    "[-17.78, -11.11, 7.34, 1.11, 37.73, 0. ]\n",
    "Expected Output:\n",
    "Values in Fahrenheit degrees:\n",
    "[ 0. 12. 45.21 34. 99.91 32. ]\n",
    "Values in Centigrade degrees:\n",
    "[-17.78 -11.11 7.34 1.11 37.73 0. ]"
   ]
  },
  {
   "cell_type": "code",
   "execution_count": 14,
   "id": "b8e8c569-cbdd-407d-b557-70857976cc67",
   "metadata": {},
   "outputs": [
    {
     "name": "stdout",
     "output_type": "stream",
     "text": [
      "-0.0040000000000048885\n",
      "12.002000000000002\n",
      "45.212\n",
      "33.998\n",
      "99.914\n",
      "32.0\n"
     ]
    }
   ],
   "source": [
    "import numpy as np\n",
    "li = [-17.78,-11.11,7.34,1.11,37.73,0]\n",
    "arrc = np.array(li)\n",
    "for i in arrc:\n",
    "    i = (i*9/5) + 32\n",
    "    print(i)"
   ]
  },
  {
   "cell_type": "markdown",
   "id": "7906f951-6bce-49a8-ab08-19016e64d58a",
   "metadata": {},
   "source": [
    "#### 4. Shown below is the input NumPy array. Delete column two and replace it with the new column given below.\n",
    "\n",
    "import NumPy\n",
    "\n",
    "sampleArray = NumPy.array([[34,43,73],[82,22,12],[53,94,66]]) \n",
    "\n",
    "newColumn = NumPy.array([[10,10,10]])"
   ]
  },
  {
   "cell_type": "code",
   "execution_count": 24,
   "id": "d841175c-8b0c-4902-b5f0-9142571125cd",
   "metadata": {},
   "outputs": [
    {
     "data": {
      "text/plain": [
       "array([[34, 43, 73],\n",
       "       [10, 10, 10],\n",
       "       [53, 94, 66]])"
      ]
     },
     "execution_count": 24,
     "metadata": {},
     "output_type": "execute_result"
    }
   ],
   "source": [
    "import numpy as np\n",
    "arr = np.array([[34,43,73],[82,22,12],[53,94,66]])\n",
    "arr\n",
    "col2 = np.array([10,10,10])\n",
    "for i in range(len(arr[1])):\n",
    "    arr[1][i] = col2[i]\n",
    "\n",
    "arr"
   ]
  },
  {
   "cell_type": "code",
   "execution_count": null,
   "id": "48023da9-55b5-4220-bbc9-e9df8c0f0ec6",
   "metadata": {},
   "outputs": [],
   "source": []
  },
  {
   "cell_type": "code",
   "execution_count": null,
   "id": "8becc080-bbe2-422f-aee0-27c6b2ae5bd8",
   "metadata": {},
   "outputs": [],
   "source": []
  },
  {
   "cell_type": "code",
   "execution_count": null,
   "id": "086146c4-fb5d-404a-a6b6-835d08b177e5",
   "metadata": {},
   "outputs": [],
   "source": []
  },
  {
   "cell_type": "code",
   "execution_count": null,
   "id": "17bbcde2-d2b7-465c-ae34-9b004657689e",
   "metadata": {},
   "outputs": [],
   "source": []
  },
  {
   "cell_type": "code",
   "execution_count": null,
   "id": "6725abed-4ec0-46dc-9860-3b0dba02415b",
   "metadata": {},
   "outputs": [],
   "source": []
  },
  {
   "cell_type": "code",
   "execution_count": null,
   "id": "b135b60e-8816-4a75-b404-dba0f4c95613",
   "metadata": {},
   "outputs": [],
   "source": []
  },
  {
   "cell_type": "code",
   "execution_count": null,
   "id": "008c3931-e79f-4c00-9cf1-383f4cf276f5",
   "metadata": {},
   "outputs": [],
   "source": []
  },
  {
   "cell_type": "code",
   "execution_count": null,
   "id": "ebaedbe8-0510-404c-b920-ced8b6f585b9",
   "metadata": {},
   "outputs": [],
   "source": []
  },
  {
   "cell_type": "code",
   "execution_count": null,
   "id": "b588cd8a-ed2e-4cdd-95ff-db292a95e59e",
   "metadata": {},
   "outputs": [],
   "source": []
  },
  {
   "cell_type": "code",
   "execution_count": null,
   "id": "2334ca11-d21a-4a22-9031-2754e28c7c38",
   "metadata": {},
   "outputs": [],
   "source": []
  },
  {
   "cell_type": "code",
   "execution_count": null,
   "id": "95e0ee76-f8c8-4714-b5a1-c8cb9c5b83d5",
   "metadata": {},
   "outputs": [],
   "source": []
  },
  {
   "cell_type": "code",
   "execution_count": null,
   "id": "ac8b0dd2-6b41-47f7-b2fc-52bd04609e0b",
   "metadata": {},
   "outputs": [],
   "source": []
  },
  {
   "cell_type": "code",
   "execution_count": null,
   "id": "0c4e790c-de70-4f73-b768-8d82a5405877",
   "metadata": {},
   "outputs": [],
   "source": []
  }
 ],
 "metadata": {
  "kernelspec": {
   "display_name": "Python 3 (ipykernel)",
   "language": "python",
   "name": "python3"
  },
  "language_info": {
   "codemirror_mode": {
    "name": "ipython",
    "version": 3
   },
   "file_extension": ".py",
   "mimetype": "text/x-python",
   "name": "python",
   "nbconvert_exporter": "python",
   "pygments_lexer": "ipython3",
   "version": "3.12.0"
  }
 },
 "nbformat": 4,
 "nbformat_minor": 5
}

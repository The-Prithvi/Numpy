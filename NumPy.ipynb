{
 "cells": [
  {
   "cell_type": "markdown",
   "id": "4f8084bd-7098-4f48-ac46-ef7d29c09108",
   "metadata": {},
   "source": [
    "## How to Create Array"
   ]
  },
  {
   "cell_type": "code",
   "execution_count": 9,
   "id": "10c288ae-b37d-4c8a-8ad6-27b999e5c46e",
   "metadata": {},
   "outputs": [
    {
     "name": "stdout",
     "output_type": "stream",
     "text": [
      "[1 8 7 4 6 7]\n"
     ]
    }
   ],
   "source": [
    "import numpy as np\n",
    "list = [1,8,7,4,6,7]\n",
    "array = np.array(list)\n",
    "print(array)"
   ]
  },
  {
   "cell_type": "code",
   "execution_count": 13,
   "id": "ca7f12ca-771f-423e-b9b9-40c5cb74fa90",
   "metadata": {},
   "outputs": [
    {
     "name": "stdin",
     "output_type": "stream",
     "text": [
      "Enter the size of the list 5\n",
      "Enter 0's value 1\n",
      "Enter 1's value 2\n",
      "Enter 2's value 3\n",
      "Enter 3's value 4\n",
      "Enter 4's value 5\n"
     ]
    },
    {
     "name": "stdout",
     "output_type": "stream",
     "text": [
      "[1, 2, 3, 4, 5]\n"
     ]
    },
    {
     "data": {
      "text/plain": [
       "array([1, 2, 3, 4, 5])"
      ]
     },
     "execution_count": 13,
     "metadata": {},
     "output_type": "execute_result"
    }
   ],
   "source": [
    "import numpy as np\n",
    "list = []\n",
    "size = int(input(\"Enter the size of the list\"))\n",
    "for i in range (0, size):\n",
    "    val = int(input(\"Enter {}'s value\".format(i)))\n",
    "    list.append(val)\n",
    "print(list)\n",
    "array = np.array(list)\n",
    "array"
   ]
  },
  {
   "cell_type": "markdown",
   "id": "015bc2b5-d771-4e96-9615-18ef1f589519",
   "metadata": {},
   "source": [
    "## Numpy Functions"
   ]
  },
  {
   "cell_type": "code",
   "execution_count": 8,
   "id": "fe2ae47e-71eb-4054-b411-968f877a07d9",
   "metadata": {},
   "outputs": [
    {
     "data": {
      "text/plain": [
       "array([[0., 0., 0., 0., 0.],\n",
       "       [0., 0., 0., 0., 0.],\n",
       "       [0., 0., 0., 0., 0.],\n",
       "       [0., 0., 0., 0., 0.],\n",
       "       [0., 0., 0., 0., 0.]])"
      ]
     },
     "execution_count": 8,
     "metadata": {},
     "output_type": "execute_result"
    }
   ],
   "source": [
    "import numpy as np\n",
    "array = np.zeros((5,5))\n",
    "array"
   ]
  },
  {
   "cell_type": "code",
   "execution_count": 9,
   "id": "f9866fe5-6d9c-484e-bf6d-ba89c7c383ef",
   "metadata": {},
   "outputs": [
    {
     "data": {
      "text/plain": [
       "array([[1., 1., 1., 1., 1.],\n",
       "       [1., 1., 1., 1., 1.],\n",
       "       [1., 1., 1., 1., 1.],\n",
       "       [1., 1., 1., 1., 1.],\n",
       "       [1., 1., 1., 1., 1.]])"
      ]
     },
     "execution_count": 9,
     "metadata": {},
     "output_type": "execute_result"
    }
   ],
   "source": [
    "import numpy as np\n",
    "array = np.ones((5,5))\n",
    "array"
   ]
  },
  {
   "cell_type": "code",
   "execution_count": 11,
   "id": "03b161f3-9b66-440c-9246-7bf7a16ba812",
   "metadata": {},
   "outputs": [
    {
     "data": {
      "text/plain": [
       "array([[1., 0., 0., 0., 0.],\n",
       "       [0., 1., 0., 0., 0.],\n",
       "       [0., 0., 1., 0., 0.],\n",
       "       [0., 0., 0., 1., 0.],\n",
       "       [0., 0., 0., 0., 1.]])"
      ]
     },
     "execution_count": 11,
     "metadata": {},
     "output_type": "execute_result"
    }
   ],
   "source": [
    "import numpy as np\n",
    "array = np.eye(5,5)\n",
    "array"
   ]
  },
  {
   "cell_type": "code",
   "execution_count": 12,
   "id": "a6ffd459-9a28-488a-8701-d3e20de1d8dd",
   "metadata": {},
   "outputs": [
    {
     "data": {
      "text/plain": [
       "array([[1, 0, 0, 0, 0],\n",
       "       [0, 2, 0, 0, 0],\n",
       "       [0, 0, 3, 0, 0],\n",
       "       [0, 0, 0, 4, 0],\n",
       "       [0, 0, 0, 0, 5]])"
      ]
     },
     "execution_count": 12,
     "metadata": {},
     "output_type": "execute_result"
    }
   ],
   "source": [
    "import numpy as np\n",
    "array = np.diag([1,2,3,4,5])\n",
    "array"
   ]
  },
  {
   "cell_type": "code",
   "execution_count": 14,
   "id": "71bf485c-569e-49db-8b2a-06c6468afe38",
   "metadata": {},
   "outputs": [
    {
     "data": {
      "text/plain": [
       "array([[0, 0, 1, 0, 0, 0, 0],\n",
       "       [0, 0, 0, 2, 0, 0, 0],\n",
       "       [0, 0, 0, 0, 3, 0, 0],\n",
       "       [0, 0, 0, 0, 0, 4, 0],\n",
       "       [0, 0, 0, 0, 0, 0, 5],\n",
       "       [0, 0, 0, 0, 0, 0, 0],\n",
       "       [0, 0, 0, 0, 0, 0, 0]])"
      ]
     },
     "execution_count": 14,
     "metadata": {},
     "output_type": "execute_result"
    }
   ],
   "source": [
    "import numpy as np\n",
    "array = np.diag([1,2,3,4,5], 2)\n",
    "array"
   ]
  },
  {
   "cell_type": "code",
   "execution_count": 16,
   "id": "ffe2c1bb-7208-422e-906f-0a2d3cee754e",
   "metadata": {},
   "outputs": [
    {
     "data": {
      "text/plain": [
       "array([5, 4, 1, 2, 3])"
      ]
     },
     "execution_count": 16,
     "metadata": {},
     "output_type": "execute_result"
    }
   ],
   "source": [
    "import numpy as np\n",
    "array = np.random.randint(1,6,5)\n",
    "array"
   ]
  },
  {
   "cell_type": "code",
   "execution_count": 17,
   "id": "2e218da7-3a73-4f8c-96d8-d1f9622c5248",
   "metadata": {},
   "outputs": [
    {
     "data": {
      "text/plain": [
       "array([[3, 4, 4],\n",
       "       [3, 1, 5],\n",
       "       [1, 4, 2]])"
      ]
     },
     "execution_count": 17,
     "metadata": {},
     "output_type": "execute_result"
    }
   ],
   "source": [
    "import numpy as np\n",
    "array = np.random.randint(1,6,(3,3))\n",
    "array"
   ]
  },
  {
   "cell_type": "code",
   "execution_count": 18,
   "id": "9107b24c-3d81-4282-a5f5-8b7ce82e2066",
   "metadata": {},
   "outputs": [
    {
     "data": {
      "text/plain": [
       "array([0.86382765, 0.43928707, 0.25194191, 0.10205458, 0.45730567])"
      ]
     },
     "execution_count": 18,
     "metadata": {},
     "output_type": "execute_result"
    }
   ],
   "source": [
    "import numpy as np\n",
    "array = np.random.rand(5)\n",
    "array"
   ]
  },
  {
   "cell_type": "code",
   "execution_count": 20,
   "id": "35ba690b-a274-4359-bdcd-66a3a52fd304",
   "metadata": {},
   "outputs": [
    {
     "data": {
      "text/plain": [
       "array([ 1.0638821 ,  0.99330627,  0.59892522,  0.23475577, -1.29658531])"
      ]
     },
     "execution_count": 20,
     "metadata": {},
     "output_type": "execute_result"
    }
   ],
   "source": [
    "import numpy as np\n",
    "array = np.random.randn(5)\n",
    "array"
   ]
  },
  {
   "cell_type": "markdown",
   "id": "3d772cd8-1c92-486b-ad9a-4cfcfaa0c1f1",
   "metadata": {},
   "source": [
    "## 2D Array"
   ]
  },
  {
   "cell_type": "code",
   "execution_count": 1,
   "id": "342af54c-9df7-4aab-afb4-03f4fb92cae4",
   "metadata": {},
   "outputs": [
    {
     "data": {
      "text/plain": [
       "array([[1, 2, 3],\n",
       "       [4, 5, 6]])"
      ]
     },
     "execution_count": 1,
     "metadata": {},
     "output_type": "execute_result"
    }
   ],
   "source": [
    "import numpy as np\n",
    "array = np.array([[1,2,3],[4,5,6]])\n",
    "array"
   ]
  },
  {
   "cell_type": "code",
   "execution_count": 4,
   "id": "bb78d0a9-7aef-474a-b4da-cfd728fa2411",
   "metadata": {},
   "outputs": [
    {
     "name": "stdout",
     "output_type": "stream",
     "text": [
      "3\n"
     ]
    }
   ],
   "source": [
    "import numpy as np\n",
    "array = np.array([[1,2,3],[4,5,6]])\n",
    "print(array[0,2])"
   ]
  },
  {
   "cell_type": "code",
   "execution_count": 7,
   "id": "1b621799-e7a1-402e-88f4-79ddfe9cc148",
   "metadata": {},
   "outputs": [
    {
     "name": "stdout",
     "output_type": "stream",
     "text": [
      "[1 2]\n"
     ]
    }
   ],
   "source": [
    "import numpy as np\n",
    "array = np.array([[1,2,3],[4,5,6]])\n",
    "print(array[0, 0:2])"
   ]
  },
  {
   "cell_type": "markdown",
   "id": "532ebb4f-9e51-4aa4-ab69-ad828bc28373",
   "metadata": {},
   "source": [
    "## Seed"
   ]
  },
  {
   "cell_type": "code",
   "execution_count": 16,
   "id": "f60ada22-6aaf-4f99-8f01-b2497cc1f2b2",
   "metadata": {},
   "outputs": [
    {
     "data": {
      "text/plain": [
       "array([38, 13, 73, 10, 76,  6, 80, 65, 17,  2])"
      ]
     },
     "execution_count": 16,
     "metadata": {},
     "output_type": "execute_result"
    }
   ],
   "source": [
    "import numpy as np\n",
    "np.random.seed(1)\n",
    "arr = np.random.randint(1, 100, 10)\n",
    "arr"
   ]
  },
  {
   "cell_type": "markdown",
   "id": "622c9d33-dbbc-4e04-9f6e-d70b6ded3a53",
   "metadata": {},
   "source": [
    "## Create 2d Arrayfom user's inpput"
   ]
  },
  {
   "cell_type": "code",
   "execution_count": 45,
   "id": "53b3f4f5-c0aa-42dd-a79e-931befb07ccf",
   "metadata": {},
   "outputs": [
    {
     "name": "stdin",
     "output_type": "stream",
     "text": [
      "Enter No. of rows:  3\n",
      "Enter No. of coulms:  3\n",
      "Enter 0,0 value:  1\n",
      "Enter 0,1 value:  2\n",
      "Enter 0,2 value:  3\n",
      "Enter 1,0 value:  4\n",
      "Enter 1,1 value:  5\n",
      "Enter 1,2 value:  6\n",
      "Enter 2,0 value:  7\n",
      "Enter 2,1 value:  8\n",
      "Enter 2,2 value:  9\n"
     ]
    },
    {
     "data": {
      "text/plain": [
       "array([[1, 2, 3],\n",
       "       [4, 5, 6],\n",
       "       [7, 8, 9]])"
      ]
     },
     "execution_count": 45,
     "metadata": {},
     "output_type": "execute_result"
    }
   ],
   "source": [
    "import numpy as np\n",
    "li = []\n",
    "row = int(input(\"Enter No. of rows: \"))\n",
    "col = int(input(\"Enter No. of coulms: \"))\n",
    "for i in range(row):\n",
    "    x = []\n",
    "    for j in range(col):\n",
    "        val = int(input(\"Enter {},{} value: \".format(i, j)))\n",
    "        x.append(val)\n",
    "    li.append(x)\n",
    "    \n",
    "arr = np.array(li)\n",
    "arr"
   ]
  },
  {
   "cell_type": "code",
   "execution_count": null,
   "id": "75f831aa-5c24-4a45-8a54-adc692c0a5c0",
   "metadata": {},
   "outputs": [],
   "source": []
  },
  {
   "cell_type": "code",
   "execution_count": null,
   "id": "317dfe62-3a27-4352-8a8a-72b081231553",
   "metadata": {},
   "outputs": [],
   "source": []
  },
  {
   "cell_type": "code",
   "execution_count": null,
   "id": "19f641c4-0e2e-4932-9848-e09c8a387b9d",
   "metadata": {},
   "outputs": [],
   "source": []
  },
  {
   "cell_type": "code",
   "execution_count": null,
   "id": "72bdfd0e-d28f-4922-ae12-6fc09cd6273b",
   "metadata": {},
   "outputs": [],
   "source": []
  },
  {
   "cell_type": "code",
   "execution_count": null,
   "id": "49e3ca56-9b81-40bb-b6e6-93ad9582382d",
   "metadata": {},
   "outputs": [],
   "source": []
  },
  {
   "cell_type": "code",
   "execution_count": null,
   "id": "debca65b-b107-4bac-93f1-db7964ad4788",
   "metadata": {},
   "outputs": [],
   "source": []
  },
  {
   "cell_type": "code",
   "execution_count": null,
   "id": "72d84c23-800a-4946-b236-eb0bf492419a",
   "metadata": {},
   "outputs": [],
   "source": []
  },
  {
   "cell_type": "code",
   "execution_count": null,
   "id": "24b43d03-9f21-4afa-bd00-41ebd11d33d2",
   "metadata": {},
   "outputs": [],
   "source": []
  },
  {
   "cell_type": "code",
   "execution_count": null,
   "id": "9ba84d08-3482-4874-9a8f-791416f98d5b",
   "metadata": {},
   "outputs": [],
   "source": []
  },
  {
   "cell_type": "code",
   "execution_count": null,
   "id": "cb11ff0d-5166-437e-97e1-ee10ed3865e6",
   "metadata": {},
   "outputs": [],
   "source": []
  },
  {
   "cell_type": "code",
   "execution_count": null,
   "id": "2bde6537-8e9b-4102-8a4b-b639afecbe33",
   "metadata": {},
   "outputs": [],
   "source": []
  },
  {
   "cell_type": "code",
   "execution_count": null,
   "id": "25488a99-e409-40da-9660-cfd7c17d5510",
   "metadata": {},
   "outputs": [],
   "source": []
  },
  {
   "cell_type": "code",
   "execution_count": null,
   "id": "40fa82d3-e3b8-4c5b-bb1b-c2c740485b1e",
   "metadata": {},
   "outputs": [],
   "source": []
  },
  {
   "cell_type": "code",
   "execution_count": null,
   "id": "8ad6594e-3a76-4ddd-abd5-37e0a809f5bc",
   "metadata": {},
   "outputs": [],
   "source": []
  },
  {
   "cell_type": "code",
   "execution_count": null,
   "id": "09d77c32-1c1d-4f87-9b03-8e185a4c03ac",
   "metadata": {},
   "outputs": [],
   "source": []
  },
  {
   "cell_type": "code",
   "execution_count": null,
   "id": "3fe382dd-783c-4f82-ad5d-d212ef990939",
   "metadata": {},
   "outputs": [],
   "source": []
  }
 ],
 "metadata": {
  "kernelspec": {
   "display_name": "Python 3 (ipykernel)",
   "language": "python",
   "name": "python3"
  },
  "language_info": {
   "codemirror_mode": {
    "name": "ipython",
    "version": 3
   },
   "file_extension": ".py",
   "mimetype": "text/x-python",
   "name": "python",
   "nbconvert_exporter": "python",
   "pygments_lexer": "ipython3",
   "version": "3.12.0"
  }
 },
 "nbformat": 4,
 "nbformat_minor": 5
}
